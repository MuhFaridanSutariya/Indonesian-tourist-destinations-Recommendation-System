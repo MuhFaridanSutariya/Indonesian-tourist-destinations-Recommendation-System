{
 "cells": [
  {
   "cell_type": "code",
   "execution_count": 1,
   "id": "fb1da8af",
   "metadata": {},
   "outputs": [],
   "source": [
    "import pandas as pd\n",
    "import numpy as np"
   ]
  },
  {
   "cell_type": "code",
   "execution_count": 2,
   "id": "714a0278",
   "metadata": {},
   "outputs": [
    {
     "data": {
      "text/html": [
       "<div>\n",
       "<style scoped>\n",
       "    .dataframe tbody tr th:only-of-type {\n",
       "        vertical-align: middle;\n",
       "    }\n",
       "\n",
       "    .dataframe tbody tr th {\n",
       "        vertical-align: top;\n",
       "    }\n",
       "\n",
       "    .dataframe thead th {\n",
       "        text-align: right;\n",
       "    }\n",
       "</style>\n",
       "<table border=\"1\" class=\"dataframe\">\n",
       "  <thead>\n",
       "    <tr style=\"text-align: right;\">\n",
       "      <th></th>\n",
       "      <th>Place_Id</th>\n",
       "      <th>Place_Name</th>\n",
       "      <th>Description</th>\n",
       "      <th>Category</th>\n",
       "      <th>City</th>\n",
       "      <th>Price</th>\n",
       "      <th>Rating</th>\n",
       "      <th>Time_Minutes</th>\n",
       "      <th>Coordinate</th>\n",
       "      <th>Lat</th>\n",
       "      <th>Long</th>\n",
       "      <th>Unnamed: 11</th>\n",
       "      <th>Unnamed: 12</th>\n",
       "    </tr>\n",
       "  </thead>\n",
       "  <tbody>\n",
       "    <tr>\n",
       "      <th>0</th>\n",
       "      <td>1</td>\n",
       "      <td>Monumen Nasional</td>\n",
       "      <td>Monumen Nasional atau yang populer disingkat d...</td>\n",
       "      <td>Budaya</td>\n",
       "      <td>Jakarta</td>\n",
       "      <td>20000</td>\n",
       "      <td>4.6</td>\n",
       "      <td>15.0</td>\n",
       "      <td>{'lat': -6.1753924, 'lng': 106.8271528}</td>\n",
       "      <td>-6.175392</td>\n",
       "      <td>106.827153</td>\n",
       "      <td>NaN</td>\n",
       "      <td>1</td>\n",
       "    </tr>\n",
       "    <tr>\n",
       "      <th>1</th>\n",
       "      <td>2</td>\n",
       "      <td>Kota Tua</td>\n",
       "      <td>Kota tua di Jakarta, yang juga bernama Kota Tu...</td>\n",
       "      <td>Budaya</td>\n",
       "      <td>Jakarta</td>\n",
       "      <td>0</td>\n",
       "      <td>4.6</td>\n",
       "      <td>90.0</td>\n",
       "      <td>{'lat': -6.137644799999999, 'lng': 106.8171245}</td>\n",
       "      <td>-6.137645</td>\n",
       "      <td>106.817125</td>\n",
       "      <td>NaN</td>\n",
       "      <td>2</td>\n",
       "    </tr>\n",
       "    <tr>\n",
       "      <th>2</th>\n",
       "      <td>3</td>\n",
       "      <td>Dunia Fantasi</td>\n",
       "      <td>Dunia Fantasi atau disebut juga Dufan adalah t...</td>\n",
       "      <td>Taman Hiburan</td>\n",
       "      <td>Jakarta</td>\n",
       "      <td>270000</td>\n",
       "      <td>4.6</td>\n",
       "      <td>360.0</td>\n",
       "      <td>{'lat': -6.125312399999999, 'lng': 106.8335377}</td>\n",
       "      <td>-6.125312</td>\n",
       "      <td>106.833538</td>\n",
       "      <td>NaN</td>\n",
       "      <td>3</td>\n",
       "    </tr>\n",
       "    <tr>\n",
       "      <th>3</th>\n",
       "      <td>4</td>\n",
       "      <td>Taman Mini Indonesia Indah (TMII)</td>\n",
       "      <td>Taman Mini Indonesia Indah merupakan suatu kaw...</td>\n",
       "      <td>Taman Hiburan</td>\n",
       "      <td>Jakarta</td>\n",
       "      <td>10000</td>\n",
       "      <td>4.5</td>\n",
       "      <td>NaN</td>\n",
       "      <td>{'lat': -6.302445899999999, 'lng': 106.8951559}</td>\n",
       "      <td>-6.302446</td>\n",
       "      <td>106.895156</td>\n",
       "      <td>NaN</td>\n",
       "      <td>4</td>\n",
       "    </tr>\n",
       "    <tr>\n",
       "      <th>4</th>\n",
       "      <td>5</td>\n",
       "      <td>Atlantis Water Adventure</td>\n",
       "      <td>Atlantis Water Adventure atau dikenal dengan A...</td>\n",
       "      <td>Taman Hiburan</td>\n",
       "      <td>Jakarta</td>\n",
       "      <td>94000</td>\n",
       "      <td>4.5</td>\n",
       "      <td>60.0</td>\n",
       "      <td>{'lat': -6.12419, 'lng': 106.839134}</td>\n",
       "      <td>-6.124190</td>\n",
       "      <td>106.839134</td>\n",
       "      <td>NaN</td>\n",
       "      <td>5</td>\n",
       "    </tr>\n",
       "  </tbody>\n",
       "</table>\n",
       "</div>"
      ],
      "text/plain": [
       "   Place_Id                         Place_Name  \\\n",
       "0         1                   Monumen Nasional   \n",
       "1         2                           Kota Tua   \n",
       "2         3                      Dunia Fantasi   \n",
       "3         4  Taman Mini Indonesia Indah (TMII)   \n",
       "4         5           Atlantis Water Adventure   \n",
       "\n",
       "                                         Description       Category     City  \\\n",
       "0  Monumen Nasional atau yang populer disingkat d...         Budaya  Jakarta   \n",
       "1  Kota tua di Jakarta, yang juga bernama Kota Tu...         Budaya  Jakarta   \n",
       "2  Dunia Fantasi atau disebut juga Dufan adalah t...  Taman Hiburan  Jakarta   \n",
       "3  Taman Mini Indonesia Indah merupakan suatu kaw...  Taman Hiburan  Jakarta   \n",
       "4  Atlantis Water Adventure atau dikenal dengan A...  Taman Hiburan  Jakarta   \n",
       "\n",
       "    Price  Rating  Time_Minutes  \\\n",
       "0   20000     4.6          15.0   \n",
       "1       0     4.6          90.0   \n",
       "2  270000     4.6         360.0   \n",
       "3   10000     4.5           NaN   \n",
       "4   94000     4.5          60.0   \n",
       "\n",
       "                                        Coordinate       Lat        Long  \\\n",
       "0          {'lat': -6.1753924, 'lng': 106.8271528} -6.175392  106.827153   \n",
       "1  {'lat': -6.137644799999999, 'lng': 106.8171245} -6.137645  106.817125   \n",
       "2  {'lat': -6.125312399999999, 'lng': 106.8335377} -6.125312  106.833538   \n",
       "3  {'lat': -6.302445899999999, 'lng': 106.8951559} -6.302446  106.895156   \n",
       "4             {'lat': -6.12419, 'lng': 106.839134} -6.124190  106.839134   \n",
       "\n",
       "   Unnamed: 11  Unnamed: 12  \n",
       "0          NaN            1  \n",
       "1          NaN            2  \n",
       "2          NaN            3  \n",
       "3          NaN            4  \n",
       "4          NaN            5  "
      ]
     },
     "execution_count": 2,
     "metadata": {},
     "output_type": "execute_result"
    }
   ],
   "source": [
    "df = pd.read_csv('data_turis/tourism_with_id.csv')\n",
    "df.head()"
   ]
  },
  {
   "cell_type": "code",
   "execution_count": 3,
   "id": "3c527650",
   "metadata": {},
   "outputs": [
    {
     "data": {
      "text/plain": [
       "(437, 13)"
      ]
     },
     "execution_count": 3,
     "metadata": {},
     "output_type": "execute_result"
    }
   ],
   "source": [
    "df.shape"
   ]
  },
  {
   "cell_type": "code",
   "execution_count": 4,
   "id": "8bad94fe",
   "metadata": {},
   "outputs": [
    {
     "data": {
      "text/plain": [
       "Index(['Place_Id', 'Place_Name', 'Description', 'Category', 'City', 'Price',\n",
       "       'Rating', 'Time_Minutes', 'Coordinate', 'Lat', 'Long', 'Unnamed: 11',\n",
       "       'Unnamed: 12'],\n",
       "      dtype='object')"
      ]
     },
     "execution_count": 4,
     "metadata": {},
     "output_type": "execute_result"
    }
   ],
   "source": [
    "df.columns"
   ]
  },
  {
   "cell_type": "code",
   "execution_count": 5,
   "id": "e678507f",
   "metadata": {},
   "outputs": [],
   "source": [
    "df.drop(columns=['Place_Id', 'Category', 'City', 'Price',\n",
    "       'Rating', 'Time_Minutes', 'Coordinate', 'Lat', 'Long', 'Unnamed: 11',\n",
    "       'Unnamed: 12'], inplace=True)"
   ]
  },
  {
   "cell_type": "code",
   "execution_count": 6,
   "id": "36b0f8be",
   "metadata": {},
   "outputs": [
    {
     "data": {
      "text/html": [
       "<div>\n",
       "<style scoped>\n",
       "    .dataframe tbody tr th:only-of-type {\n",
       "        vertical-align: middle;\n",
       "    }\n",
       "\n",
       "    .dataframe tbody tr th {\n",
       "        vertical-align: top;\n",
       "    }\n",
       "\n",
       "    .dataframe thead th {\n",
       "        text-align: right;\n",
       "    }\n",
       "</style>\n",
       "<table border=\"1\" class=\"dataframe\">\n",
       "  <thead>\n",
       "    <tr style=\"text-align: right;\">\n",
       "      <th></th>\n",
       "      <th>Place_Name</th>\n",
       "      <th>Description</th>\n",
       "    </tr>\n",
       "  </thead>\n",
       "  <tbody>\n",
       "    <tr>\n",
       "      <th>0</th>\n",
       "      <td>Monumen Nasional</td>\n",
       "      <td>Monumen Nasional atau yang populer disingkat d...</td>\n",
       "    </tr>\n",
       "    <tr>\n",
       "      <th>1</th>\n",
       "      <td>Kota Tua</td>\n",
       "      <td>Kota tua di Jakarta, yang juga bernama Kota Tu...</td>\n",
       "    </tr>\n",
       "    <tr>\n",
       "      <th>2</th>\n",
       "      <td>Dunia Fantasi</td>\n",
       "      <td>Dunia Fantasi atau disebut juga Dufan adalah t...</td>\n",
       "    </tr>\n",
       "    <tr>\n",
       "      <th>3</th>\n",
       "      <td>Taman Mini Indonesia Indah (TMII)</td>\n",
       "      <td>Taman Mini Indonesia Indah merupakan suatu kaw...</td>\n",
       "    </tr>\n",
       "    <tr>\n",
       "      <th>4</th>\n",
       "      <td>Atlantis Water Adventure</td>\n",
       "      <td>Atlantis Water Adventure atau dikenal dengan A...</td>\n",
       "    </tr>\n",
       "  </tbody>\n",
       "</table>\n",
       "</div>"
      ],
      "text/plain": [
       "                          Place_Name  \\\n",
       "0                   Monumen Nasional   \n",
       "1                           Kota Tua   \n",
       "2                      Dunia Fantasi   \n",
       "3  Taman Mini Indonesia Indah (TMII)   \n",
       "4           Atlantis Water Adventure   \n",
       "\n",
       "                                         Description  \n",
       "0  Monumen Nasional atau yang populer disingkat d...  \n",
       "1  Kota tua di Jakarta, yang juga bernama Kota Tu...  \n",
       "2  Dunia Fantasi atau disebut juga Dufan adalah t...  \n",
       "3  Taman Mini Indonesia Indah merupakan suatu kaw...  \n",
       "4  Atlantis Water Adventure atau dikenal dengan A...  "
      ]
     },
     "execution_count": 6,
     "metadata": {},
     "output_type": "execute_result"
    }
   ],
   "source": [
    "df.head()"
   ]
  },
  {
   "cell_type": "code",
   "execution_count": 7,
   "id": "67ad893a",
   "metadata": {},
   "outputs": [
    {
     "data": {
      "text/plain": [
       "Place_Name     0\n",
       "Description    0\n",
       "dtype: int64"
      ]
     },
     "execution_count": 7,
     "metadata": {},
     "output_type": "execute_result"
    }
   ],
   "source": [
    "df.isnull().sum()"
   ]
  },
  {
   "cell_type": "code",
   "execution_count": 8,
   "id": "6bf39887",
   "metadata": {},
   "outputs": [
    {
     "data": {
      "text/plain": [
       "0"
      ]
     },
     "execution_count": 8,
     "metadata": {},
     "output_type": "execute_result"
    }
   ],
   "source": [
    "df.duplicated().sum()"
   ]
  },
  {
   "cell_type": "code",
   "execution_count": 9,
   "id": "e861a849",
   "metadata": {},
   "outputs": [],
   "source": [
    "csv_data = df.to_csv('data_turis/df_tourism_desc', index =False)"
   ]
  },
  {
   "cell_type": "code",
   "execution_count": 11,
   "id": "5ad22897",
   "metadata": {},
   "outputs": [],
   "source": [
    "from sklearn.feature_extraction.text import CountVectorizer\n",
    "from nltk.tokenize import word_tokenize\n",
    "from nltk.corpus import stopwords\n",
    "from string import punctuation\n",
    "\n",
    "sw_indo = stopwords.words(\"indonesian\") + list(punctuation)"
   ]
  },
  {
   "cell_type": "code",
   "execution_count": 12,
   "id": "b9b88397",
   "metadata": {},
   "outputs": [
    {
     "name": "stderr",
     "output_type": "stream",
     "text": [
      "D:\\MiniConda\\envs\\jcop_recsys\\lib\\site-packages\\sklearn\\feature_extraction\\text.py:385: UserWarning: Your stop_words may be inconsistent with your preprocessing. Tokenizing the stop words generated tokens ['``'] not in stop_words.\n",
      "  'stop_words.' % sorted(inconsistent))\n"
     ]
    }
   ],
   "source": [
    "bow = CountVectorizer(stop_words=sw_indo, tokenizer=word_tokenize)\n",
    "bank = bow.fit_transform(df['Description'])"
   ]
  },
  {
   "cell_type": "code",
   "execution_count": 13,
   "id": "488f885c",
   "metadata": {},
   "outputs": [],
   "source": [
    "idx = 0"
   ]
  },
  {
   "cell_type": "code",
   "execution_count": 14,
   "id": "f99eca06",
   "metadata": {},
   "outputs": [
    {
     "data": {
      "text/plain": [
       "'Monumen Nasional atau yang populer disingkat dengan Monas atau Tugu Monas adalah monumen peringatan setinggi 132 meter (433 kaki) yang didirikan untuk mengenang perlawanan dan perjuangan rakyat Indonesia untuk merebut kemerdekaan dari pemerintahan kolonial Hindia Belanda. Pembangunan monumen ini dimulai pada tanggal 17 Agustus 1961 di bawah perintah presiden Soekarno dan dibuka untuk umum pada tanggal 12 Juli 1975. Tugu ini dimahkotai lidah api yang dilapisi lembaran emas yang melambangkan semangat perjuangan yang menyala-nyala. Monumen Nasional terletak tepat di tengah Lapangan Medan Merdeka, Jakarta Pusat.'"
      ]
     },
     "execution_count": 14,
     "metadata": {},
     "output_type": "execute_result"
    }
   ],
   "source": [
    "content = df.loc[idx, 'Description']\n",
    "content"
   ]
  },
  {
   "cell_type": "code",
   "execution_count": 15,
   "id": "d332bb00",
   "metadata": {},
   "outputs": [
    {
     "data": {
      "text/plain": [
       "<1x6485 sparse matrix of type '<class 'numpy.int64'>'\n",
       "\twith 50 stored elements in Compressed Sparse Row format>"
      ]
     },
     "execution_count": 15,
     "metadata": {},
     "output_type": "execute_result"
    }
   ],
   "source": [
    "code = bow.transform([content])\n",
    "code"
   ]
  },
  {
   "cell_type": "code",
   "execution_count": 16,
   "id": "c5ea0da8",
   "metadata": {},
   "outputs": [],
   "source": [
    "from sklearn.metrics.pairwise import cosine_distances"
   ]
  },
  {
   "cell_type": "code",
   "execution_count": 17,
   "id": "35be72ca",
   "metadata": {},
   "outputs": [
    {
     "data": {
      "text/plain": [
       "array([[2.22044605e-16, 9.41777749e-01, 8.33144047e-01, 9.12294198e-01,\n",
       "        9.86024575e-01, 9.60471529e-01, 9.35876353e-01, 1.00000000e+00,\n",
       "        9.53088336e-01, 9.45767386e-01, 9.82322330e-01, 9.06973949e-01,\n",
       "        9.68056172e-01, 9.65104530e-01, 9.13573660e-01, 9.31800566e-01,\n",
       "        9.02266245e-01, 8.75832537e-01, 9.81366100e-01, 9.34572010e-01,\n",
       "        9.68991316e-01, 8.35987351e-01, 9.74681516e-01, 8.82015024e-01,\n",
       "        9.68400622e-01, 9.59621357e-01, 9.12294198e-01, 1.00000000e+00,\n",
       "        9.47295372e-01, 9.63403747e-01, 9.68585957e-01, 9.31635736e-01,\n",
       "        9.53415250e-01, 9.90412938e-01, 8.92582769e-01, 9.48012476e-01,\n",
       "        9.63403747e-01, 9.24691990e-01, 9.36754447e-01, 8.63243684e-01,\n",
       "        9.65496722e-01, 9.21737621e-01, 9.65078485e-01, 6.15863337e-01,\n",
       "        9.72475906e-01, 9.70888875e-01, 9.42646067e-01, 8.85095148e-01,\n",
       "        9.14095879e-01, 9.11916967e-01, 9.17661303e-01, 9.39719647e-01,\n",
       "        9.55934735e-01, 9.70695075e-01, 9.80754991e-01, 9.73828804e-01,\n",
       "        8.24274513e-01, 9.89619315e-01, 8.23528355e-01, 8.60878331e-01,\n",
       "        8.70000000e-01, 9.00368325e-01, 8.38506202e-01, 8.90410749e-01,\n",
       "        9.67725139e-01, 9.50395263e-01, 9.65900283e-01, 9.89388091e-01,\n",
       "        9.83333333e-01, 8.96439833e-01, 1.00000000e+00, 9.58073725e-01,\n",
       "        9.29570479e-01, 9.64308469e-01, 1.00000000e+00, 9.84495658e-01,\n",
       "        9.44098301e-01, 9.46940455e-01, 9.49055530e-01, 9.06766268e-01,\n",
       "        9.09021832e-01, 8.88196601e-01, 1.00000000e+00, 9.59337497e-01,\n",
       "        9.82377316e-01, 9.83435271e-01, 9.16594234e-01, 9.64644661e-01,\n",
       "        9.82097128e-01, 1.00000000e+00, 9.80537526e-01, 9.89388091e-01,\n",
       "        9.90747085e-01, 9.75000000e-01, 9.89663772e-01, 9.88929814e-01,\n",
       "        7.97740041e-01, 9.07758993e-01, 1.00000000e+00, 9.65219583e-01,\n",
       "        9.68447263e-01, 8.63069361e-01, 8.44252044e-01, 1.00000000e+00,\n",
       "        9.83691798e-01, 9.76163435e-01, 9.84344393e-01, 9.82950142e-01,\n",
       "        9.51887478e-01, 7.79103688e-01, 1.00000000e+00, 9.87090056e-01,\n",
       "        9.57402862e-01, 9.76297727e-01, 7.61858426e-01, 1.00000000e+00,\n",
       "        9.39758550e-01, 9.35149345e-01, 9.91048564e-01, 9.77178227e-01,\n",
       "        9.72613872e-01, 1.00000000e+00, 9.78394330e-01, 9.62732200e-01,\n",
       "        9.81494170e-01, 9.82696786e-01, 1.00000000e+00, 1.00000000e+00,\n",
       "        1.00000000e+00, 9.01092929e-01, 1.00000000e+00, 1.00000000e+00,\n",
       "        1.00000000e+00, 9.89750999e-01, 9.56870903e-01, 9.77412302e-01,\n",
       "        1.00000000e+00, 1.00000000e+00, 9.56562776e-01, 1.00000000e+00,\n",
       "        9.70382556e-01, 1.00000000e+00, 1.00000000e+00, 9.77589464e-01,\n",
       "        1.00000000e+00, 9.93195862e-01, 9.27335205e-01, 9.78776182e-01,\n",
       "        9.92627902e-01, 9.70468779e-01, 1.00000000e+00, 9.72883693e-01,\n",
       "        1.00000000e+00, 9.81863094e-01, 9.90990625e-01, 1.00000000e+00,\n",
       "        9.85909622e-01, 1.00000000e+00, 1.00000000e+00, 9.83820380e-01,\n",
       "        9.87090056e-01, 9.89482421e-01, 1.00000000e+00, 1.00000000e+00,\n",
       "        1.00000000e+00, 9.94717786e-01, 1.00000000e+00, 9.83904431e-01,\n",
       "        1.00000000e+00, 9.45227744e-01, 1.00000000e+00, 1.00000000e+00,\n",
       "        9.71132487e-01, 9.89707663e-01, 9.85413501e-01, 9.78615027e-01,\n",
       "        9.63139511e-01, 9.84495658e-01, 9.64245153e-01, 9.84785485e-01,\n",
       "        9.90901568e-01, 1.00000000e+00, 9.65078485e-01, 1.00000000e+00,\n",
       "        1.00000000e+00, 1.00000000e+00, 9.93079543e-01, 1.00000000e+00,\n",
       "        9.81681417e-01, 9.87003119e-01, 9.90533969e-01, 9.91084213e-01,\n",
       "        9.85125897e-01, 9.89877796e-01, 9.51075395e-01, 9.83515488e-01,\n",
       "        9.83945968e-01, 1.00000000e+00, 1.00000000e+00, 1.00000000e+00,\n",
       "        1.00000000e+00, 9.78281388e-01, 1.00000000e+00, 1.00000000e+00,\n",
       "        9.87258820e-01, 1.00000000e+00, 9.87258820e-01, 9.89435572e-01,\n",
       "        1.00000000e+00, 1.00000000e+00, 9.59839034e-01, 9.37377571e-01,\n",
       "        9.30903520e-01, 9.51343816e-01, 9.74199216e-01, 1.00000000e+00,\n",
       "        9.65078485e-01, 9.74930265e-01, 9.69848866e-01, 1.00000000e+00,\n",
       "        8.02454081e-01, 9.39410261e-01, 9.82816415e-01, 1.00000000e+00,\n",
       "        9.54824605e-01, 9.58397485e-01, 9.72883693e-01, 9.18651078e-01,\n",
       "        9.89574279e-01, 1.00000000e+00, 1.00000000e+00, 9.85319495e-01,\n",
       "        9.56356422e-01, 9.60471529e-01, 9.61009357e-01, 9.71447988e-01,\n",
       "        9.90000000e-01, 9.82210798e-01, 1.00000000e+00, 9.84958579e-01,\n",
       "        1.00000000e+00, 9.64245153e-01, 9.86540452e-01, 9.87421135e-01,\n",
       "        1.00000000e+00, 1.00000000e+00, 9.42049944e-01, 1.00000000e+00,\n",
       "        9.90550888e-01, 9.69122989e-01, 1.00000000e+00, 9.71370083e-01,\n",
       "        9.69879275e-01, 1.00000000e+00, 9.54824605e-01, 1.00000000e+00,\n",
       "        6.69510513e-01, 9.62022274e-01, 7.16666667e-01, 9.12696213e-01,\n",
       "        9.74681516e-01, 9.90268763e-01, 9.89574279e-01, 9.37445676e-01,\n",
       "        9.71132487e-01, 1.00000000e+00, 9.81863094e-01, 9.84028086e-01,\n",
       "        9.87783056e-01, 9.67422082e-01, 9.88706151e-01, 9.88819660e-01,\n",
       "        9.54116853e-01, 1.00000000e+00, 1.00000000e+00, 9.48245083e-01,\n",
       "        9.68991316e-01, 9.71132487e-01, 9.72475906e-01, 9.70582580e-01,\n",
       "        9.89089105e-01, 1.00000000e+00, 1.00000000e+00, 9.53054747e-01,\n",
       "        9.63619656e-01, 1.00000000e+00, 9.45445527e-01, 9.65031070e-01,\n",
       "        1.00000000e+00, 8.97014270e-01, 1.00000000e+00, 9.90482663e-01,\n",
       "        1.00000000e+00, 9.69381378e-01, 9.81423347e-01, 1.00000000e+00,\n",
       "        9.66458980e-01, 9.87873219e-01, 1.00000000e+00, 9.85800954e-01,\n",
       "        9.59910814e-01, 9.79057305e-01, 1.00000000e+00, 9.75154800e-01,\n",
       "        9.50000000e-01, 9.53486975e-01, 9.65405080e-01, 1.00000000e+00,\n",
       "        9.54875737e-01, 1.00000000e+00, 1.00000000e+00, 9.73483496e-01,\n",
       "        9.83048412e-01, 9.86636938e-01, 1.00000000e+00, 9.77979242e-01,\n",
       "        9.78383115e-01, 9.59003997e-01, 1.00000000e+00, 1.00000000e+00,\n",
       "        1.00000000e+00, 1.00000000e+00, 1.00000000e+00, 1.00000000e+00,\n",
       "        9.61009357e-01, 1.00000000e+00, 9.50202841e-01, 9.86341041e-01,\n",
       "        9.77296170e-01, 9.92339357e-01, 9.91572502e-01, 1.00000000e+00,\n",
       "        1.00000000e+00, 9.85319495e-01, 9.73888352e-01, 1.00000000e+00,\n",
       "        9.77967368e-01, 8.98870021e-01, 9.53033178e-01, 9.86540452e-01,\n",
       "        1.00000000e+00, 9.88819660e-01, 1.00000000e+00, 1.00000000e+00,\n",
       "        9.70119285e-01, 9.34220649e-01, 9.86823843e-01, 1.00000000e+00,\n",
       "        1.00000000e+00, 1.00000000e+00, 1.00000000e+00, 9.56480586e-01,\n",
       "        9.83604354e-01, 9.86132495e-01, 1.00000000e+00, 9.50000000e-01,\n",
       "        1.00000000e+00, 1.00000000e+00, 9.86731378e-01, 1.00000000e+00,\n",
       "        9.77178227e-01, 9.87653380e-01, 9.85351032e-01, 1.00000000e+00,\n",
       "        9.31359353e-01, 9.84028086e-01, 9.87943929e-01, 9.48701082e-01,\n",
       "        7.80821498e-01, 9.58655088e-01, 1.00000000e+00, 9.87500000e-01,\n",
       "        9.11060941e-01, 1.00000000e+00, 9.42844610e-01, 9.46547752e-01,\n",
       "        1.00000000e+00, 9.90482663e-01, 1.00000000e+00, 9.66096825e-01,\n",
       "        7.42852183e-01, 1.00000000e+00, 1.00000000e+00, 1.00000000e+00,\n",
       "        1.00000000e+00, 9.72522126e-01, 9.82322330e-01, 9.82900361e-01,\n",
       "        9.40707294e-01, 1.00000000e+00, 1.00000000e+00, 9.88148863e-01,\n",
       "        1.00000000e+00, 9.92339357e-01, 1.00000000e+00, 8.79714906e-01,\n",
       "        9.81604091e-01, 9.81863094e-01, 1.00000000e+00, 9.75887859e-01,\n",
       "        9.82377316e-01, 9.61075053e-01, 1.00000000e+00, 9.77883707e-01,\n",
       "        1.00000000e+00, 1.00000000e+00, 1.00000000e+00, 9.48012476e-01,\n",
       "        9.94576739e-01, 9.71447988e-01, 9.80138547e-01, 8.95106701e-01,\n",
       "        9.44098301e-01, 9.51961554e-01, 8.67001206e-01, 9.36294101e-01,\n",
       "        9.63114444e-01, 9.85566243e-01, 8.02831533e-01, 1.00000000e+00,\n",
       "        9.42049944e-01, 7.88460740e-01, 1.00000000e+00, 9.81250000e-01,\n",
       "        1.00000000e+00, 9.78304118e-01, 9.44098301e-01, 7.39572312e-01,\n",
       "        9.37377571e-01, 9.92691183e-01, 9.83145003e-01, 9.76687380e-01,\n",
       "        9.41277978e-01, 9.49595135e-01, 9.67469998e-01, 9.83862569e-01,\n",
       "        9.81366100e-01]])"
      ]
     },
     "execution_count": 17,
     "metadata": {},
     "output_type": "execute_result"
    }
   ],
   "source": [
    "dist = cosine_distances(code, bank)\n",
    "dist"
   ]
  },
  {
   "cell_type": "code",
   "execution_count": 18,
   "id": "0de7a777",
   "metadata": {},
   "outputs": [
    {
     "data": {
      "text/plain": [
       "array([ 43, 256, 258, 427, 380, 114, 109, 368, 421,  96], dtype=int64)"
      ]
     },
     "execution_count": 18,
     "metadata": {},
     "output_type": "execute_result"
    }
   ],
   "source": [
    "rec_idx = dist.argsort()[0, 1:11]\n",
    "rec_idx"
   ]
  },
  {
   "cell_type": "code",
   "execution_count": 20,
   "id": "3d43f49c",
   "metadata": {},
   "outputs": [
    {
     "data": {
      "text/html": [
       "<div>\n",
       "<style scoped>\n",
       "    .dataframe tbody tr th:only-of-type {\n",
       "        vertical-align: middle;\n",
       "    }\n",
       "\n",
       "    .dataframe tbody tr th {\n",
       "        vertical-align: top;\n",
       "    }\n",
       "\n",
       "    .dataframe thead th {\n",
       "        text-align: right;\n",
       "    }\n",
       "</style>\n",
       "<table border=\"1\" class=\"dataframe\">\n",
       "  <thead>\n",
       "    <tr style=\"text-align: right;\">\n",
       "      <th></th>\n",
       "      <th>Place_Name</th>\n",
       "      <th>Description</th>\n",
       "    </tr>\n",
       "  </thead>\n",
       "  <tbody>\n",
       "    <tr>\n",
       "      <th>43</th>\n",
       "      <td>Monumen Selamat Datang</td>\n",
       "      <td>Monumen Selamat Datang adalah sebuah monumen y...</td>\n",
       "    </tr>\n",
       "    <tr>\n",
       "      <th>256</th>\n",
       "      <td>Monumen Bandung Lautan Api</td>\n",
       "      <td>Monumen Bandung Lautan Api, merupakan monumen ...</td>\n",
       "    </tr>\n",
       "    <tr>\n",
       "      <th>258</th>\n",
       "      <td>Monumen Perjuangan Rakyat Jawa Barat</td>\n",
       "      <td>Monumen Perjuangan Rakyat Jawa Barat (Monju) a...</td>\n",
       "    </tr>\n",
       "    <tr>\n",
       "      <th>427</th>\n",
       "      <td>Monumen Bambu Runcing Surabaya</td>\n",
       "      <td>Monumen Bambu Runcing adalah ikon pariwisata S...</td>\n",
       "    </tr>\n",
       "    <tr>\n",
       "      <th>380</th>\n",
       "      <td>Tugu Muda Semarang</td>\n",
       "      <td>Tugu Muda (\"Monumen Pemuda\" Indonesia) adalah ...</td>\n",
       "    </tr>\n",
       "    <tr>\n",
       "      <th>114</th>\n",
       "      <td>Monumen Sanapati</td>\n",
       "      <td>Monumen Sanapati dibangun untuk memeringati 50...</td>\n",
       "    </tr>\n",
       "    <tr>\n",
       "      <th>109</th>\n",
       "      <td>Monumen Serangan Umum 1 Maret</td>\n",
       "      <td>Monumen Serangan Umum 1 Maret berada di area s...</td>\n",
       "    </tr>\n",
       "    <tr>\n",
       "      <th>368</th>\n",
       "      <td>Monumen Palagan Ambarawa</td>\n",
       "      <td>Monumen Palagan Ambarawa adalah sebuah monumen...</td>\n",
       "    </tr>\n",
       "    <tr>\n",
       "      <th>421</th>\n",
       "      <td>Monumen Jalesveva Jayamahe</td>\n",
       "      <td>Monumen Jalesveva Jayamahe atau Monjaya adalah...</td>\n",
       "    </tr>\n",
       "    <tr>\n",
       "      <th>96</th>\n",
       "      <td>Monumen Yogya Kembali</td>\n",
       "      <td>Museum Monumen Yogya Kembali (bahasa Jawa: ꦩꦺꦴ...</td>\n",
       "    </tr>\n",
       "  </tbody>\n",
       "</table>\n",
       "</div>"
      ],
      "text/plain": [
       "                               Place_Name  \\\n",
       "43                 Monumen Selamat Datang   \n",
       "256            Monumen Bandung Lautan Api   \n",
       "258  Monumen Perjuangan Rakyat Jawa Barat   \n",
       "427        Monumen Bambu Runcing Surabaya   \n",
       "380                    Tugu Muda Semarang   \n",
       "114                      Monumen Sanapati   \n",
       "109         Monumen Serangan Umum 1 Maret   \n",
       "368              Monumen Palagan Ambarawa   \n",
       "421            Monumen Jalesveva Jayamahe   \n",
       "96                  Monumen Yogya Kembali   \n",
       "\n",
       "                                           Description  \n",
       "43   Monumen Selamat Datang adalah sebuah monumen y...  \n",
       "256  Monumen Bandung Lautan Api, merupakan monumen ...  \n",
       "258  Monumen Perjuangan Rakyat Jawa Barat (Monju) a...  \n",
       "427  Monumen Bambu Runcing adalah ikon pariwisata S...  \n",
       "380  Tugu Muda (\"Monumen Pemuda\" Indonesia) adalah ...  \n",
       "114  Monumen Sanapati dibangun untuk memeringati 50...  \n",
       "109  Monumen Serangan Umum 1 Maret berada di area s...  \n",
       "368  Monumen Palagan Ambarawa adalah sebuah monumen...  \n",
       "421  Monumen Jalesveva Jayamahe atau Monjaya adalah...  \n",
       "96   Museum Monumen Yogya Kembali (bahasa Jawa: ꦩꦺꦴ...  "
      ]
     },
     "execution_count": 20,
     "metadata": {},
     "output_type": "execute_result"
    }
   ],
   "source": [
    "df.loc[rec_idx]"
   ]
  },
  {
   "cell_type": "code",
   "execution_count": 21,
   "id": "ff6af8a5",
   "metadata": {},
   "outputs": [],
   "source": [
    "class RecommenderSystem:\n",
    "    def __init__(self, data, content_col):\n",
    "        self.df = pd.read_csv(data)\n",
    "        self.content_col = content_col\n",
    "        self.encoder = None\n",
    "        self.bank = None\n",
    "        \n",
    "    def fit(self):\n",
    "        self.encoder = CountVectorizer(stop_words=sw_indo, tokenizer=word_tokenize)\n",
    "        self.bank = self.encoder.fit_transform(self.df[self.content_col])\n",
    "        \n",
    "    def recommend(self, idx, topk=10):\n",
    "        content = df.loc[idx, self.content_col]\n",
    "        code = self.encoder.transform([content])\n",
    "        dist = cosine_distances(code, self.bank)\n",
    "        rec_idx = dist.argsort()[0, 1:(topk+1)]\n",
    "        return self.df.loc[rec_idx]"
   ]
  },
  {
   "cell_type": "code",
   "execution_count": 23,
   "id": "25304b59",
   "metadata": {},
   "outputs": [
    {
     "name": "stderr",
     "output_type": "stream",
     "text": [
      "D:\\MiniConda\\envs\\jcop_recsys\\lib\\site-packages\\sklearn\\feature_extraction\\text.py:385: UserWarning: Your stop_words may be inconsistent with your preprocessing. Tokenizing the stop words generated tokens ['``'] not in stop_words.\n",
      "  'stop_words.' % sorted(inconsistent))\n"
     ]
    }
   ],
   "source": [
    "recsys = RecommenderSystem(\"data_turis/df_tourism_desc\", content_col=\"Description\")\n",
    "recsys.fit()"
   ]
  },
  {
   "cell_type": "code",
   "execution_count": 25,
   "id": "02ce05b0",
   "metadata": {},
   "outputs": [
    {
     "data": {
      "text/html": [
       "<div>\n",
       "<style scoped>\n",
       "    .dataframe tbody tr th:only-of-type {\n",
       "        vertical-align: middle;\n",
       "    }\n",
       "\n",
       "    .dataframe tbody tr th {\n",
       "        vertical-align: top;\n",
       "    }\n",
       "\n",
       "    .dataframe thead th {\n",
       "        text-align: right;\n",
       "    }\n",
       "</style>\n",
       "<table border=\"1\" class=\"dataframe\">\n",
       "  <thead>\n",
       "    <tr style=\"text-align: right;\">\n",
       "      <th></th>\n",
       "      <th>Place_Name</th>\n",
       "      <th>Description</th>\n",
       "    </tr>\n",
       "  </thead>\n",
       "  <tbody>\n",
       "    <tr>\n",
       "      <th>12</th>\n",
       "      <td>Pulau Pramuka</td>\n",
       "      <td>Pulau Pramuka merupakan salah satu pulau yang ...</td>\n",
       "    </tr>\n",
       "    <tr>\n",
       "      <th>13</th>\n",
       "      <td>Pulau Pelangi</td>\n",
       "      <td>Pulau Pelangi adalah sebuah pulau yang terleta...</td>\n",
       "    </tr>\n",
       "    <tr>\n",
       "      <th>11</th>\n",
       "      <td>Pulau Pari</td>\n",
       "      <td>Pulau Pari adalah sebuah pulau yang terletak d...</td>\n",
       "    </tr>\n",
       "    <tr>\n",
       "      <th>45</th>\n",
       "      <td>Pulau Semak Daun</td>\n",
       "      <td>Pulau Semak Daun merupakan salah satu pulau ya...</td>\n",
       "    </tr>\n",
       "    <tr>\n",
       "      <th>9</th>\n",
       "      <td>Pulau Tidung</td>\n",
       "      <td>Pulau Tidung adalah salah satu kelurahan di ke...</td>\n",
       "    </tr>\n",
       "    <tr>\n",
       "      <th>8</th>\n",
       "      <td>Pelabuhan Marina</td>\n",
       "      <td>Pelabuhan Marina Ancol berada di kawasan Taman...</td>\n",
       "    </tr>\n",
       "    <tr>\n",
       "      <th>118</th>\n",
       "      <td>Lava Bantal</td>\n",
       "      <td>Wilayah DIY menawarkan sejumlah potensi wisata...</td>\n",
       "    </tr>\n",
       "    <tr>\n",
       "      <th>152</th>\n",
       "      <td>Pantai Kukup</td>\n",
       "      <td>Pantai Kukup adalah salah satu pantai yang mem...</td>\n",
       "    </tr>\n",
       "    <tr>\n",
       "      <th>327</th>\n",
       "      <td>Gua Pawon</td>\n",
       "      <td>Gua Pawon adalah sebuah gua alami dan situs pu...</td>\n",
       "    </tr>\n",
       "    <tr>\n",
       "      <th>211</th>\n",
       "      <td>Jalan Braga</td>\n",
       "      <td>Jalan Braga adalah nama sebuah jalan utama di ...</td>\n",
       "    </tr>\n",
       "  </tbody>\n",
       "</table>\n",
       "</div>"
      ],
      "text/plain": [
       "           Place_Name                                        Description\n",
       "12      Pulau Pramuka  Pulau Pramuka merupakan salah satu pulau yang ...\n",
       "13      Pulau Pelangi  Pulau Pelangi adalah sebuah pulau yang terleta...\n",
       "11         Pulau Pari  Pulau Pari adalah sebuah pulau yang terletak d...\n",
       "45   Pulau Semak Daun  Pulau Semak Daun merupakan salah satu pulau ya...\n",
       "9        Pulau Tidung  Pulau Tidung adalah salah satu kelurahan di ke...\n",
       "8    Pelabuhan Marina  Pelabuhan Marina Ancol berada di kawasan Taman...\n",
       "118       Lava Bantal  Wilayah DIY menawarkan sejumlah potensi wisata...\n",
       "152      Pantai Kukup  Pantai Kukup adalah salah satu pantai yang mem...\n",
       "327         Gua Pawon  Gua Pawon adalah sebuah gua alami dan situs pu...\n",
       "211       Jalan Braga  Jalan Braga adalah nama sebuah jalan utama di ..."
      ]
     },
     "execution_count": 25,
     "metadata": {},
     "output_type": "execute_result"
    }
   ],
   "source": [
    "recsys.recommend(10)"
   ]
  },
  {
   "cell_type": "code",
   "execution_count": 26,
   "id": "d0121253",
   "metadata": {},
   "outputs": [
    {
     "data": {
      "text/html": [
       "<div>\n",
       "<style scoped>\n",
       "    .dataframe tbody tr th:only-of-type {\n",
       "        vertical-align: middle;\n",
       "    }\n",
       "\n",
       "    .dataframe tbody tr th {\n",
       "        vertical-align: top;\n",
       "    }\n",
       "\n",
       "    .dataframe thead th {\n",
       "        text-align: right;\n",
       "    }\n",
       "</style>\n",
       "<table border=\"1\" class=\"dataframe\">\n",
       "  <thead>\n",
       "    <tr style=\"text-align: right;\">\n",
       "      <th></th>\n",
       "      <th>Place_Name</th>\n",
       "      <th>Description</th>\n",
       "    </tr>\n",
       "  </thead>\n",
       "  <tbody>\n",
       "    <tr>\n",
       "      <th>290</th>\n",
       "      <td>Water Park Bandung Indah</td>\n",
       "      <td>Bandung Indah Waterpark merupakan salah satu k...</td>\n",
       "    </tr>\n",
       "    <tr>\n",
       "      <th>2</th>\n",
       "      <td>Dunia Fantasi</td>\n",
       "      <td>Dunia Fantasi atau disebut juga Dufan adalah t...</td>\n",
       "    </tr>\n",
       "    <tr>\n",
       "      <th>236</th>\n",
       "      <td>Panghegar Waterboom Bandung</td>\n",
       "      <td>Panghegar Waterboom Bandung merupakan salah sa...</td>\n",
       "    </tr>\n",
       "    <tr>\n",
       "      <th>364</th>\n",
       "      <td>Waduk Jatibarang</td>\n",
       "      <td>Waduk Jatibarang merupakan sebuah waduk yang b...</td>\n",
       "    </tr>\n",
       "    <tr>\n",
       "      <th>74</th>\n",
       "      <td>SnowBay Waterpark</td>\n",
       "      <td>Waterpark yang menghadirkan wahana imajinatif ...</td>\n",
       "    </tr>\n",
       "    <tr>\n",
       "      <th>280</th>\n",
       "      <td>Tektona Waterpark</td>\n",
       "      <td>Tektona Waterpark sebuah wahana yang memberika...</td>\n",
       "    </tr>\n",
       "    <tr>\n",
       "      <th>296</th>\n",
       "      <td>Mountain View Golf Club</td>\n",
       "      <td>Selamat Datang di Mountain View Golf Club Dago...</td>\n",
       "    </tr>\n",
       "    <tr>\n",
       "      <th>75</th>\n",
       "      <td>Taman Cattleya</td>\n",
       "      <td>Kehadiran Taman Cattleya tentu saja sangat ber...</td>\n",
       "    </tr>\n",
       "    <tr>\n",
       "      <th>393</th>\n",
       "      <td>Air Mancur Menari</td>\n",
       "      <td>Jembatan Kenjeran dengan air mancur menarinya ...</td>\n",
       "    </tr>\n",
       "    <tr>\n",
       "      <th>373</th>\n",
       "      <td>Hutan Pinus Kayon</td>\n",
       "      <td>Tak dipungkiri Hutan Pinus Kayon Getasan dekat...</td>\n",
       "    </tr>\n",
       "  </tbody>\n",
       "</table>\n",
       "</div>"
      ],
      "text/plain": [
       "                      Place_Name  \\\n",
       "290     Water Park Bandung Indah   \n",
       "2                  Dunia Fantasi   \n",
       "236  Panghegar Waterboom Bandung   \n",
       "364             Waduk Jatibarang   \n",
       "74             SnowBay Waterpark   \n",
       "280            Tektona Waterpark   \n",
       "296      Mountain View Golf Club   \n",
       "75                Taman Cattleya   \n",
       "393            Air Mancur Menari   \n",
       "373            Hutan Pinus Kayon   \n",
       "\n",
       "                                           Description  \n",
       "290  Bandung Indah Waterpark merupakan salah satu k...  \n",
       "2    Dunia Fantasi atau disebut juga Dufan adalah t...  \n",
       "236  Panghegar Waterboom Bandung merupakan salah sa...  \n",
       "364  Waduk Jatibarang merupakan sebuah waduk yang b...  \n",
       "74   Waterpark yang menghadirkan wahana imajinatif ...  \n",
       "280  Tektona Waterpark sebuah wahana yang memberika...  \n",
       "296  Selamat Datang di Mountain View Golf Club Dago...  \n",
       "75   Kehadiran Taman Cattleya tentu saja sangat ber...  \n",
       "393  Jembatan Kenjeran dengan air mancur menarinya ...  \n",
       "373  Tak dipungkiri Hutan Pinus Kayon Getasan dekat...  "
      ]
     },
     "execution_count": 26,
     "metadata": {},
     "output_type": "execute_result"
    }
   ],
   "source": [
    "recsys.recommend(18)"
   ]
  }
 ],
 "metadata": {
  "kernelspec": {
   "display_name": "Python [conda env:jcop_recsys]",
   "language": "python",
   "name": "conda-env-jcop_recsys-py"
  },
  "language_info": {
   "codemirror_mode": {
    "name": "ipython",
    "version": 3
   },
   "file_extension": ".py",
   "mimetype": "text/x-python",
   "name": "python",
   "nbconvert_exporter": "python",
   "pygments_lexer": "ipython3",
   "version": "3.7.6"
  },
  "varInspector": {
   "cols": {
    "lenName": 16,
    "lenType": 16,
    "lenVar": 40
   },
   "kernels_config": {
    "python": {
     "delete_cmd_postfix": "",
     "delete_cmd_prefix": "del ",
     "library": "var_list.py",
     "varRefreshCmd": "print(var_dic_list())"
    },
    "r": {
     "delete_cmd_postfix": ") ",
     "delete_cmd_prefix": "rm(",
     "library": "var_list.r",
     "varRefreshCmd": "cat(var_dic_list()) "
    }
   },
   "types_to_exclude": [
    "module",
    "function",
    "builtin_function_or_method",
    "instance",
    "_Feature"
   ],
   "window_display": false
  }
 },
 "nbformat": 4,
 "nbformat_minor": 5
}
